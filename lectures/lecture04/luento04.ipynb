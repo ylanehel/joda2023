{
 "cells": [
  {
   "cell_type": "code",
   "execution_count": 2,
   "metadata": {},
   "outputs": [],
   "source": [
    "from IPython.display import Image\n",
    "from IPython.core.display import HTML \n",
    "from IPython.display import IFrame"
   ]
  },
  {
   "cell_type": "markdown",
   "metadata": {},
   "source": [
    "# JODA Luento 4 "
   ]
  },
  {
   "cell_type": "markdown",
   "metadata": {},
   "source": [
    "Luentomuistion valmisteli [Arho Suominen](https://www.tuni.fi/fi/ajankohtaista/kun-teknologia-muuttuu-yrityksen-taytyy-loytaa-keinot-sopeutua-muutokseen). Vuonna 2023 JODAa luennoi [Jukka Huhtamäki](https://www.tuni.fi/fi/jukka-huhtamaki) ([@jnkka](https://twitter.com/jnkka?lang=fi)).\n",
    "\n",
    "\n",
    "## Aikataulua\n",
    "\n",
    "* Tämän viikon Tuki- ja demosessio normaalisti\n",
    "* Ei luentoa tulevalla viikolla\n",
    "* Ennustustehtävä avautuu perjantaina\n",
    "* Seuraava luento pääsiäisloman jälkeen\n",
    "* Vierailuluento!\n"
   ]
  },
  {
   "cell_type": "markdown",
   "metadata": {},
   "source": [
    "## Oppimistavoitteet\n",
    "\n",
    "* Ohjatun oppimisen esimerkkitoteutuksen läpikäynti\n",
    "* Datatiedeprojektin työnkulkuun syventyminen\n",
    "* Datatiedeprosessin käytäntöihin tutustuminen \n",
    "* Erilaisiin suunnittelumalleihin (prosessimallit, mahdollisuuskehikko, analytiikkakehikko) perehtyminen\n",
    "\n",
    "## Mitä prosessia datatiedeprojektissa kannattaa hyödyntää?"
   ]
  },
  {
   "cell_type": "markdown",
   "metadata": {},
   "source": [
    "[CRISP-DM](https://www.kdnuggets.com/polls/2014/analytics-data-mining-data-science-methodology.html)-malli on osoittautunut monessa datatiedeprojektissa hyödylliseksi jäsennykseksi ja ajattelun välineeksi. Katso myös [Houston Analyticsin projektimalli](https://www.houston-analytics.com/project-methodology) ja Microsoftin laajempi [tiimidatiedekehikko](https://docs.microsoft.com/en-us/azure/architecture/data-science-process/overview). Tänään tehdäänkin asioita käytännössä.\n",
    "\n",
    "Kevään mittaan olemme käyneet jo läpi useammankin aineiston. Olemme katsoneet huollon vikailmoituksia, kuluttajadataa finanssisektorilta ja tämän päivän luentoon valmistauduttiin tutustumalla [AirBnB-esimerkkianalyysiin](https://github.com/InfoTUNI/spark-sklearn-airbnb-predict). \n",
    "\n",
    "Tänään on tarkoituksena käydä keskustellen läpi CRISP-DM -prosessia - tai ainakin sen ensimmäisiä askeleita). Tavoitteena on korostaa sitä, että todellisen maailman datatiedeprojekteissa lähtökohtana on **oletusarvoisesti liiketoimintaongelma tai muu kiinnostava kysymys, ei data**.\n",
    "\n",
    "Tässä prosessissa käytetään hyödyksi Jeff Pattonin esittelemää [kehikkoa mahdollisuuksien tunnistamiseen](https://www.jpattonassociates.com/opportunity-canvas/). Mahdollisuuskehikko on kehitetty liiketoiminta- ja Lean-kehikkojen pohjalta ja sen tarkoituksena on mahdollistaa keskustelu ratkaisusta, jota olemme ideoimassa. Päivän tavoitteena on tukea harjoitustyöhön (datatiedeprojektin pohja) orientoitumista ongelmalähtöisesti.\n",
    "\n",
    "Niklas Stepheson [kuvaa hyvin miten mahdollisuuskehikkoa](https://www.stephenson.dk/opportunity-canvas/) voi hyödyntää ja me käytämme sitä tänään samalla prosessilla. [Mahdollisuuskehikon käyttö](https://www.dropbox.com/s/a7jydl9n7zplqwg/opportunity_canvas) on yksinkertaista ja se käydään alla läpi lyhyesti."
   ]
  },
  {
   "cell_type": "code",
   "execution_count": 3,
   "metadata": {},
   "outputs": [
    {
     "data": {
      "text/html": [
       "\n",
       "        <iframe\n",
       "            width=\"1000\"\n",
       "            height=\"700\"\n",
       "            src=\"https://www.dropbox.com/s/a7jydl9n7zplqwg/opportunity_canvas.pdf?dl=0\"\n",
       "            frameborder=\"0\"\n",
       "            allowfullscreen\n",
       "        ></iframe>\n",
       "        "
      ],
      "text/plain": [
       "<IPython.lib.display.IFrame at 0x7f829d165c10>"
      ]
     },
     "execution_count": 3,
     "metadata": {},
     "output_type": "execute_result"
    }
   ],
   "source": [
    "IFrame(\"https://www.dropbox.com/s/a7jydl9n7zplqwg/opportunity_canvas.pdf?dl=0\", width=1000, height=700)"
   ]
  },
  {
   "cell_type": "markdown",
   "metadata": {},
   "source": [
    "<ol>\n",
    "<li>Aloita kohdasta 1. Ongelma. Mahdollisuuskehikko on suunniteltu niin, että voit aloittaa joko ratkaisusta tai ongelmasta ja päätyä molempia reittejä takaisin ratkaisuun tai ongelmaan. JODAn puitteissa lähdetään liikkeelle siitä, että kuvaat ongelman eli kysymyksen minkä haluat ratkaista. Vastaakin kysymykseen, mikä on se ongelma johon haluan tuottaa ratkaisun?</li>\n",
    "<li>Kuka käyttää ratkaisua? Kuten yleensä, on huono ratkaisu todeta, että tätä käyttää kaikki vaan pikemminkin kuvata ne käyttäjäryhmät, jotka voisivat käyttää palvelua ja kuvata mitkä ovat näiden segmenttien erot.</li>\n",
    "<li>Kuvaa miten ongelma on ratkaistu tänään. Tämä antaa kuvan siitä miten voit mitata oman ratkaisusi \"suorituskykyä\" verrattuna nykyiseen ratkaisuun. Ratkaisuna voi olla myös jokin epätyypillinen kiertotie ongelman ratkaisemiseen.</li>\n",
    "<li>Kohdassa neljä määritellään liiketoimintaongelma, tai pikemminkin se, miten tarjoamasi ongelman ratkaisu vaikuttaa liiketoimintaan tai organisaation toimintaan ylipäänsä. Asiaa voi ajatella myös käänteisesti kysymällä miten ongelman jättäminen ratkaisematta vaikuttaa liiketoimintaan.</li>\n",
    "<li>Miten käyttäjät käyttävät ratkaisua? Miten käyttäjän prosessi muuttuu siitä että käyttää ratkaisua ja mikä on heidän saama hyöty?</li>\n",
    "<li>Miten voisit mitata sitä että käyttäjät testaavat, käyttävät, sisäistävät ratkaisun? Miten mittaat käyttäjän ratkaisusta saamaa hyötyä?</li>\n",
    "    <li><a href=\"https://en.wikipedia.org/wiki/Technology_acceptance_model\">Teknologian hyväksyntä</a> voidaan käytännössä jakaa kahteen osaan: subjektiivisesti koettu hyöty ja helppokäyttöisyys. Hyöty määritellään siten, että kuinka paljon toteutettu ratkaisu voi helpottaa henkilön työprosessia. Helppokäyttöisyys kuvaa sitä kuinka pienen työn järjestelmän käyttöönotto vaatii.</li>\n",
    "<li>Miten voisit mitata ratkaisun vaikutusta yrityksesi liiketoimintaan?</li>\n",
    "<li>Budjetti, miten tämä realisoituu käytännössä.</li>\n",
    "</ol>"
   ]
  },
  {
   "cell_type": "markdown",
   "metadata": {},
   "source": [
    "Lähdetään liikkeelle tärkeimmästä."
   ]
  },
  {
   "cell_type": "markdown",
   "metadata": {},
   "source": [
    "### Ymmärrä liiketoimintasi"
   ]
  },
  {
   "cell_type": "markdown",
   "metadata": {},
   "source": [
    "Tämä vaihe on keskeinen projektisi onnistumiselle. Jotta dataprojektisi lähtisi liikkeelle ja tulisi käyttöönotetuksi, on sen tuotettava selkeää arvo yrityksen liiketoimintaprosessille. Kuten minkä tahansa tuotteen määrittelyssä, on keskeistä tuoda esille se miten jokin yrityksen prosessi tai tuote muuttuu paremmaksi kun siihen yhdistetään jokin datakomponentti. "
   ]
  },
  {
   "cell_type": "markdown",
   "metadata": {},
   "source": [
    "<!-- Alla oleva tapauskuvaus on lainaus [Tekoälyaikaraportista](https://www.tekoalyaika.fi/raportit/edellakavijana-tekoalyaikaan/2-kansainvaliset-tekoalyn-asiantuntijat-kohti-tekoalyn-kolmatta-aaltoa/).-->"
   ]
  },
  {
   "cell_type": "markdown",
   "metadata": {},
   "source": [
    "<!--<i>Ruokakauppojen kanta-asiakasjärjestelmät ovat jo pitkään tunteneet asiakkaansa läpikotaisin. Ostosdatan perusteella on helppo tehdä päätelmiä asiakkaan ostoskäyttäytymisestä. Lisäksi tiedämme, että ihmiset tuppaavat ostamaan ruokakaupasta suunnilleen samankaltaisia asioita.\n",
    "\n",
    "K-RYHMÄSSÄ päätettiin muutama vuosi sitten ryhtyä rakentamaan tästä datasta huomattavasti nykyistä älykkäämpää järjestelmää, joka suosittelisi ihmisille reseptejä heidän puolestaan ja siten helpottaisi heidän arkeaan. Järjestelmä otettiin käyttöön vuonna 2017. Yksinkertaisimmillaan se tarkoittaa sitä, että kun hakukenttään kirjoittaa ”maito”, hakukone antaa sisäänkirjautuneelle käyttäjälle automaattisesti ostoshistoriaan perustuvan suosikkimaidon.\n",
    "\n",
    "Pian kuitenkin järjestelmää opetettiin älykkäämmäksi ja hakua laajennettiin antamaan myös reseptisuosituksia. Se päättelee ihmisten hakutuloksista, minkälaisia ruokia ostavat ihmiset käyttävät minkäkinlaisia reseptejä, ja suosittelee näitä automaattisesti uusille käyttäjille.\n",
    "\n",
    "Vuoden alusta järjestelmää on opetettu entistä älykkäämmäksi ja se on laajennettu koskemaan ostolistoja. Käytännössä sisäänkirjautunut käyttäjä voi nyt yhdellä napinpainalluksella saada ensi viikon ostoslistan valmiina itselleen. Harkinnan siitä, mitä ruokakassiin tulisi laittaa, on tehnyt käyttäjän puolesta tekoäly pohjautuen aiempaan ostoslistaan. Se ei siis suosittele ainoastaan aiemmin ostettuja tuotteita, vaan päättelee, mitä käyttäjä haluaisi ensi viikolla mahdollisesti syödä. Mitä enemmän ostoksia ja listoja käyttäjä tekee, sitä paremmin järjestelmä oppii tuntemaan – ja suosittelemaan myös uusia.\n",
    "\n",
    "Tällöin voi käydä lopulta niin, että tekoäly oppii ihmistä paremmaksi mielitekojen asiantuntijaksi ja ihmisten aikaa vapautuu johonkin muuhun kuin sen miettimiseen, mitä seuraavaksi tekisi mieli.\n",
    "\n",
    "Ruokaostosdataa on monista asiakkaista jo hyvin pitkän ajan takaa, joten ruokaostoksia ja reseptejä suositteleva tekoäly lähtee liikkeelle varsin hyvästä lähtökohdasta. Dataa on runsaasti ja se on laadukasta.\n",
    "\n",
    "Sen sijaan vaikeampaa tekoälylle on ollut opettaa henkilökohtaisten mieltymysten ja sesonkivaihtelujen eroa. Eli vaikka käyttäjä kuinka rakastaisi runebergintorttuja, hän tuskin haluaa niistä suosituksia marraskuussa. Haasteena on ollut datan saavutettavuus, laatu ja datamassojen laskentatehojen riittävyys, joissa on vasta viime vuosina saavutettu sellaisia teknisiä harppauksia, että relevanttien suositusten antaminen on mahdollista.\n",
    "\n",
    "Seuraavana tavoitteena on nivoa resepti- ja ostoslistasuosittelu eheäksi kokonaisuudeksi, joka muuttaa ruokakaupassa käymisen kokonaan. Silloin ruokaostosten valinta ja hankkiminen tapahtuvat käytännössä muutamalla napinpainalluksella. Tähän tapaan:\n",
    "\n",
    "Järjestelmä kysyy käyttäjältä, haluaako tämä kokata ensi viikolla makaronilaatikkoa ja kasvispastaa, johon käyttäjä vastaa kyllä. Tämän jälkeen järjestelmä ehdottaa ostoslistalle tuotteita, jotka käyttäjä hyväksyy. Tämän jälkeen järjestelmä kysyy, haluatko ostaa tuotteet, jolloin käyttäjä hyväksyy ja maksaa ostokset – ja saa ne hetken päästä toimitettuna kotiovellensa.\n",
    "\n",
    "Tämä voi olla mahdollista jo vuoden sisällä.\n",
    "\n",
    "K-ryhmän reseptisuositukset on esimerkki digitaalisten palveluiden kehittämisestä. Kyseessä on ihmisten arkeen vahvasti vaikuttava tekijä: käytämme merkittävän osan ajastamme ruokaostosten hankkimiseen ja sen miettimiseen, mitä ruuaksi laittaisimme tai haluaisimme laittaa. Näin ollen tekoäly voi mullistaa käytännön arkeamme minimoimalla tuon ajan ja oppimalla älykkääksi arvioimaan puolestamme sen, mitä olemme syöneet ja mitä meidän kannattaisi seuraavaksi syödä.</i>-->"
   ]
  },
  {
   "cell_type": "markdown",
   "metadata": {},
   "source": [
    "Käy läpi Airbnb:n [uusin ajankohtaiskatsaus](https://www.airbnb.fi/resources/hosting-homes/a/building-and-improving-airbnbtogether-with-hosts-478), jossa annetaan majoittajille vinkkejä menestymiseen. "
   ]
  },
  {
   "cell_type": "markdown",
   "metadata": {},
   "source": [
    "<b>Keskustellaan pienryhmissä:</b> \n",
    "<ol>\n",
    "<li>Tunnistakaa jokin ongelma, jonka Airbnb haluaa ratkaista?</li>\n",
    "<li>Listatkaa muutamia mahdollisia analyysejä, joiden pohjalta ajankohtauksen teemat ja esitetyt ohjeistukset ovat muodostuneet.</li>\n",
    "</ol>\n",
    "\n",
    "Aikaa kymmenen minuuttia, varautukaa kertomaan vastaukset myös muille."
   ]
  },
  {
   "cell_type": "markdown",
   "metadata": {},
   "source": [
    "Ideoita:\n",
    "\n",
    "* …\n",
    "* …\n",
    "* …"
   ]
  },
  {
   "cell_type": "markdown",
   "metadata": {},
   "source": [
    "Vaikka datatiedeoprojektin pohjassa ei olekaan (välttämättä) kyse yrityksen liiketoiminnasta, on yhtä olennaista päättää jokin selkeä kysymys, johon voit vastata datan avulla ja vasta sitten pohtia onko kysymykseen vastaamiseksi saatavilla dataa. "
   ]
  },
  {
   "cell_type": "markdown",
   "metadata": {},
   "source": [
    "## Oman datatiedeprojektin  aloittaminen"
   ]
  },
  {
   "cell_type": "markdown",
   "metadata": {},
   "source": [
    "[Mahdollisuuskehikko](https://www.dropbox.com/s/vzzz7nvjvobhcka/opportunity_canvas_editable.pptx?dl=0) ([katso keskustelu suomenkielisestä käsitteestä](https://twitter.com/jnkka/status/1376788470962790401)) on tarjolla verkossa. <!--Meillä on käytössä [Miro-versio kehikosta](https://miro.com/welcomeonboard/dEhDUFB3QmJXUDFtd1A0Q3VtM2pZZjY2ZVh5aDJ6aExIU0xBZ3FmRFVKTk1lcWI0VGRDa3BOa05NUUpXQnNZd3wzMDc0NDU3MzQ3NDA3MzExNDI5?invite_link_id=922037219634).--> \n",
    "\n",
    "<ol>\n",
    "    <li>Pohdi itse minkä ongelman haluisit omassa datatiedeprojektissasi ratkaista. Hahmottele itsellesi mielenkiintoisia ideoita mahdollisuuskehikon lokeroon 1. Näitä voi olla useita, joten ideoi vapaasti.</li>\n",
    "    <li>Listaa ongelmia <a href=\"https://flinga.fi/s/FY5ZAP6\">Flingaan</a>. Mikä ongelmista on oikeasti olemassa? Suodatetaan kiinnostavimmat ideat tykkäämällä.</li>\n",
    " </ol>\n",
    "\n",
    "Listataan ideoita 10 minuuttia.\n",
    "\n",
    "<ol>\n",
    "    <li>Jatketaan kiinnostavimpien ideoiden kehittelyä yhdessä</li>\n",
    "    <li>Kuka ehdotettua ratkaisua voisi käyttää? Miten voit rajata tämän joukon kaikista muista?</li>\n",
    "    <li>Mitkä ovat nykyisin käytössä olevat ratkaisut? Kuvaa ne lyhyesti.</li>\n",
    "</ol>\n",
    "\n",
    "Aikaa käytössä on 20 minuuttia. <!--, jonka jälkeen lisää kanvaasisi omaksi kalvokseen.--> <!-- Kun jatkamme eteenpäin, käy lisäämässä oma ideasi ketjuun muiden ideoita lisäämällä oma kanvaasisi [muiden jatkoksi](https://docs.google.com/presentation/d/12UU5E6DXWBuZuFHKZ3uBell8MyyyofyF619D_k1h9Ek/edit?usp=sharing)-->"
   ]
  },
  {
   "cell_type": "markdown",
   "metadata": {},
   "source": [
    "### Hanki data"
   ]
  },
  {
   "cell_type": "markdown",
   "metadata": {},
   "source": [
    "Kun kysymys on lukittu voidaan pohtia mistä on mahdollista saada dataa kysymykseen vastaamiseksi. Esittelyssä ovat jo olleet [Kaggle-datat](https://www.kaggle.com/datasets), mutta vaihtoehtoja on myös muita. Tässä muutamia:"
   ]
  },
  {
   "cell_type": "markdown",
   "metadata": {},
   "source": [
    "<ol>\n",
    "<li>Onko käytössäsi organisaation itse luomaa dataa? Jos mahdollista, tulee arvioida mitä datalähteitä organisaatiolla itsellään on käytössä. Vaikka osa aineistosta ei alunperin olisi suunniteltu data analyysiin, voi yrityksen omissa datalähteissä olla merkittäviä tietovarantoja. Näiden jalostaminen analyysikäyttöön voi toki olla työlästä.</li>\n",
    "<li>Hyödynnä ohjelmointirajapintoja (application programming interface, API): rajapintojen takaa löytyy mitä moninaisempia tietolähteitä joilla voi olla suoraa hyödynnettävyyttä omassa prosessissasi. Esimerkkinä rajapinnoista löytyy vaikka <a href=\"https://www.programmableweb.com/\">ProgrammableWeb-alustalta</a>, johon on koottuu erilaisia rajapintoja, tällä hetkellä yli 20 000 eri rajapintaa.</li>\n",
    "<li>Etsi avointa dataa: Varsinkin julkiset toimijat ovat lähteneet hyvin aktiivisesti julkaisemaan aineistojaan avoimen rajapinnan kautta. Esimerkkejä on vaikka Euroopan Unionin ODP, jonka kautta on saatavilla monenlaista aineistoa.</li>\n",
    "</ol>"
   ]
  },
  {
   "cell_type": "markdown",
   "metadata": {},
   "source": []
  },
  {
   "cell_type": "code",
   "execution_count": 26,
   "metadata": {},
   "outputs": [
    {
     "data": {
      "text/html": [
       "<div>\n",
       "<style scoped>\n",
       "    .dataframe tbody tr th:only-of-type {\n",
       "        vertical-align: middle;\n",
       "    }\n",
       "\n",
       "    .dataframe tbody tr th {\n",
       "        vertical-align: top;\n",
       "    }\n",
       "\n",
       "    .dataframe thead th {\n",
       "        text-align: right;\n",
       "    }\n",
       "</style>\n",
       "<table border=\"1\" class=\"dataframe\">\n",
       "  <thead>\n",
       "    <tr style=\"text-align: right;\">\n",
       "      <th></th>\n",
       "      <th>_id</th>\n",
       "      <th>FID</th>\n",
       "      <th>VIHERALUEEN_OSAN_ID</th>\n",
       "      <th>ALUE_NIMI</th>\n",
       "      <th>OSA_ALUE_NIMI</th>\n",
       "      <th>ALUE_SIJ</th>\n",
       "      <th>ALUEEN_OSAN_SIJ</th>\n",
       "      <th>PINTA_ALA</th>\n",
       "      <th>KAYTTOLK</th>\n",
       "      <th>HOITOLK</th>\n",
       "      <th>TOIMLK</th>\n",
       "      <th>URAKKA_ALUE</th>\n",
       "      <th>KAUPUNGINOSA</th>\n",
       "      <th>TILAAJA</th>\n",
       "      <th>KUNNOSSAPITAJA</th>\n",
       "      <th>ERITYISKAYTTO</th>\n",
       "      <th>KP_KAUSI</th>\n",
       "      <th>GEOLOC</th>\n",
       "    </tr>\n",
       "  </thead>\n",
       "  <tbody>\n",
       "    <tr>\n",
       "      <th>0</th>\n",
       "      <td>1</td>\n",
       "      <td>WFS_KOIRAPUISTO_MVIEW.184191</td>\n",
       "      <td>184191</td>\n",
       "      <td>NÄYTTÄMÖNPUISTO</td>\n",
       "      <td></td>\n",
       "      <td>ELNA HELLMANIN KATU - SIMO KAARION KATU</td>\n",
       "      <td>ELNA HELLMANIN KATU - SIMO KAARION KATU</td>\n",
       "      <td>2342</td>\n",
       "      <td>YLEISET VIHERALUEET</td>\n",
       "      <td>E5 - KOIRA-AITAUKSET JA KOIRIEN UITTOALUEET</td>\n",
       "      <td>KOIRAPUISTO</td>\n",
       "      <td>HERVANTA</td>\n",
       "      <td>HERVANTA</td>\n",
       "      <td>KAUPUNKIYMPÄRISTÖN PALVELUALUE</td>\n",
       "      <td>TAMPEREEN INFRA</td>\n",
       "      <td></td>\n",
       "      <td></td>\n",
       "      <td>POLYGON ((24492872.148015 6815106.918607, 2449...</td>\n",
       "    </tr>\n",
       "    <tr>\n",
       "      <th>1</th>\n",
       "      <td>2</td>\n",
       "      <td>WFS_KOIRAPUISTO_MVIEW.178677</td>\n",
       "      <td>178677</td>\n",
       "      <td>HAKAMETSÄ</td>\n",
       "      <td></td>\n",
       "      <td>UUDENKYLÄNKATU - SAMMON VALTATIE</td>\n",
       "      <td>UUDENKYLÄNKATU - SAMMON VALTATIE</td>\n",
       "      <td>4458</td>\n",
       "      <td>YLEISET VIHERALUEET</td>\n",
       "      <td>E5 - KOIRA-AITAUKSET JA KOIRIEN UITTOALUEET</td>\n",
       "      <td>KOIRAPUISTO</td>\n",
       "      <td>KISSANMAA</td>\n",
       "      <td>KISSANMAA</td>\n",
       "      <td>KAUPUNKIYMPÄRISTÖN PALVELUALUE</td>\n",
       "      <td>TAMPEREEN INFRA</td>\n",
       "      <td></td>\n",
       "      <td></td>\n",
       "      <td>POLYGON ((24490547.379985 6820611.2299885, 244...</td>\n",
       "    </tr>\n",
       "    <tr>\n",
       "      <th>2</th>\n",
       "      <td>3</td>\n",
       "      <td>WFS_KOIRAPUISTO_MVIEW.119558</td>\n",
       "      <td>119558</td>\n",
       "      <td>VIIRAPUISTO</td>\n",
       "      <td></td>\n",
       "      <td>POSSIJÄRVENKATU - MYLLYPURONKATU</td>\n",
       "      <td>POSSIJÄRVENKATU - MYLLYPURONKATU</td>\n",
       "      <td>1926</td>\n",
       "      <td>YLEISET VIHERALUEET</td>\n",
       "      <td>E5 - KOIRA-AITAUKSET JA KOIRIEN UITTOALUEET</td>\n",
       "      <td>KOIRAPUISTO</td>\n",
       "      <td>LIELAHTI</td>\n",
       "      <td>RYYDYNPOHJA</td>\n",
       "      <td>KAUPUNKIYMPÄRISTÖN PALVELUALUE</td>\n",
       "      <td>TAMPEREEN INFRA</td>\n",
       "      <td></td>\n",
       "      <td></td>\n",
       "      <td>POLYGON ((24481801.98001 6823713.9310195, 2448...</td>\n",
       "    </tr>\n",
       "    <tr>\n",
       "      <th>3</th>\n",
       "      <td>4</td>\n",
       "      <td>WFS_KOIRAPUISTO_MVIEW.128277</td>\n",
       "      <td>128277</td>\n",
       "      <td>VÄHÄJÄRVENPUISTO</td>\n",
       "      <td></td>\n",
       "      <td>LEPOLANTIE - PERKIÖNKATU</td>\n",
       "      <td>LEPOLANTIE - PERKIÖNKATU</td>\n",
       "      <td>4014</td>\n",
       "      <td>YLEISET VIHERALUEET</td>\n",
       "      <td>E5 - KOIRA-AITAUKSET JA KOIRIEN UITTOALUEET</td>\n",
       "      <td>KOIRAPUISTO</td>\n",
       "      <td>PELTOLAMMI</td>\n",
       "      <td>HÄRMÄLÄ</td>\n",
       "      <td>KAUPUNKIYMPÄRISTÖN PALVELUALUE</td>\n",
       "      <td>PIHAHUOLTO HAAPANIEMI OY</td>\n",
       "      <td></td>\n",
       "      <td></td>\n",
       "      <td>POLYGON ((24485578.77199 6817535.950009, 24485...</td>\n",
       "    </tr>\n",
       "    <tr>\n",
       "      <th>4</th>\n",
       "      <td>5</td>\n",
       "      <td>WFS_KOIRAPUISTO_MVIEW.134922</td>\n",
       "      <td>134922</td>\n",
       "      <td>ISOLAMMENPUISTO</td>\n",
       "      <td></td>\n",
       "      <td>ISOLAMMENKATU - ISONIITYNPOLKU</td>\n",
       "      <td>ISOLAMMENKATU - ISONIITYNPOLKU</td>\n",
       "      <td>2051</td>\n",
       "      <td>YLEISET VIHERALUEET</td>\n",
       "      <td>E5 - KOIRA-AITAUKSET JA KOIRIEN UITTOALUEET</td>\n",
       "      <td>KOIRAPUISTO</td>\n",
       "      <td>LEINOLA</td>\n",
       "      <td>KAUKAJÄRVI</td>\n",
       "      <td>KAUPUNKIYMPÄRISTÖN PALVELUALUE</td>\n",
       "      <td>TAMPEREEN INFRA</td>\n",
       "      <td></td>\n",
       "      <td></td>\n",
       "      <td>POLYGON ((24493689.346995 6817629.1079875, 244...</td>\n",
       "    </tr>\n",
       "    <tr>\n",
       "      <th>5</th>\n",
       "      <td>6</td>\n",
       "      <td>WFS_KOIRAPUISTO_MVIEW.134904</td>\n",
       "      <td>134904</td>\n",
       "      <td>VESTONPUISTO</td>\n",
       "      <td></td>\n",
       "      <td>VESTONKATU</td>\n",
       "      <td>VESTONKATU</td>\n",
       "      <td>3143</td>\n",
       "      <td>YLEISET VIHERALUEET</td>\n",
       "      <td>E5 - KOIRA-AITAUKSET JA KOIRIEN UITTOALUEET</td>\n",
       "      <td>KOIRAPUISTO</td>\n",
       "      <td>LEINOLA</td>\n",
       "      <td>LEINOLA</td>\n",
       "      <td>KAUPUNKIYMPÄRISTÖN PALVELUALUE</td>\n",
       "      <td>TAMPEREEN INFRA</td>\n",
       "      <td></td>\n",
       "      <td></td>\n",
       "      <td>POLYGON ((24495686.2750125 6819135.544003, 244...</td>\n",
       "    </tr>\n",
       "    <tr>\n",
       "      <th>6</th>\n",
       "      <td>7</td>\n",
       "      <td>WFS_KOIRAPUISTO_MVIEW.159370</td>\n",
       "      <td>159370</td>\n",
       "      <td>VILLILÄNPUISTO</td>\n",
       "      <td></td>\n",
       "      <td>VILLILÄNNIEMI</td>\n",
       "      <td>VILLILÄNNIEMI</td>\n",
       "      <td>3463</td>\n",
       "      <td>YLEISET VIHERALUEET</td>\n",
       "      <td>E5 - KOIRA-AITAUKSET JA KOIRIEN UITTOALUEET</td>\n",
       "      <td>KOIRAPUISTO</td>\n",
       "      <td>TESOMA</td>\n",
       "      <td>VILLILÄ</td>\n",
       "      <td>KAUPUNKIYMPÄRISTÖN PALVELUALUE</td>\n",
       "      <td>TAMPEREEN INFRA</td>\n",
       "      <td></td>\n",
       "      <td></td>\n",
       "      <td>POLYGON ((24480980.320015 6820801.479994, 2448...</td>\n",
       "    </tr>\n",
       "    <tr>\n",
       "      <th>7</th>\n",
       "      <td>8</td>\n",
       "      <td>WFS_KOIRAPUISTO_MVIEW.147971</td>\n",
       "      <td>147971</td>\n",
       "      <td>LEIMAPUISTO</td>\n",
       "      <td></td>\n",
       "      <td>TESOMANKATU</td>\n",
       "      <td>TESOMANKATU</td>\n",
       "      <td>3180</td>\n",
       "      <td>YLEISET VIHERALUEET</td>\n",
       "      <td>E5 - KOIRA-AITAUKSET JA KOIRIEN UITTOALUEET</td>\n",
       "      <td>KOIRAPUISTO</td>\n",
       "      <td>TESOMA</td>\n",
       "      <td>TESOMAJÄRVI</td>\n",
       "      <td>KAUPUNKIYMPÄRISTÖN PALVELUALUE</td>\n",
       "      <td>YMPÄRISTÖPALVELU KNUUTILA</td>\n",
       "      <td></td>\n",
       "      <td></td>\n",
       "      <td>POLYGON ((24478719.995 6821704.3859815, 244787...</td>\n",
       "    </tr>\n",
       "    <tr>\n",
       "      <th>8</th>\n",
       "      <td>9</td>\n",
       "      <td>WFS_KOIRAPUISTO_MVIEW.160589</td>\n",
       "      <td>160589</td>\n",
       "      <td>RATINAN RANTAPUISTO</td>\n",
       "      <td></td>\n",
       "      <td>RATINAN RANTATIE - TAMPEREEN VALTATIE</td>\n",
       "      <td>RATINAN RANTATIE - TAMPEREEN VALTATIE</td>\n",
       "      <td>1767</td>\n",
       "      <td>YLEISET VIHERALUEET</td>\n",
       "      <td>E5 - KOIRA-AITAUKSET JA KOIRIEN UITTOALUEET</td>\n",
       "      <td>KOIRAPUISTO</td>\n",
       "      <td>KESKUSTA</td>\n",
       "      <td>RATINA XIII</td>\n",
       "      <td>KAUPUNKIYMPÄRISTÖN PALVELUALUE</td>\n",
       "      <td>TAMPEREEN INFRA</td>\n",
       "      <td></td>\n",
       "      <td></td>\n",
       "      <td>POLYGON ((24487225.8000025 6820324.8800035, 24...</td>\n",
       "    </tr>\n",
       "    <tr>\n",
       "      <th>9</th>\n",
       "      <td>10</td>\n",
       "      <td>WFS_KOIRAPUISTO_MVIEW.245574</td>\n",
       "      <td>245574</td>\n",
       "      <td>VIROLAISTENPUISTO</td>\n",
       "      <td></td>\n",
       "      <td>VUOREKSEN PUISTOKATU - FRANS EMILIN KATU</td>\n",
       "      <td>VUOREKSEN PUISTOKATU - FRANS EMILIN KATU</td>\n",
       "      <td>3602</td>\n",
       "      <td>YLEISET VIHERALUEET</td>\n",
       "      <td>E5 - KOIRA-AITAUKSET JA KOIRIEN UITTOALUEET</td>\n",
       "      <td>KOIRAPUISTO</td>\n",
       "      <td>VUORES</td>\n",
       "      <td>VUORES</td>\n",
       "      <td>KAUPUNKIYMPÄRISTÖN PALVELUALUE</td>\n",
       "      <td>TAMPEREEN INFRA</td>\n",
       "      <td></td>\n",
       "      <td></td>\n",
       "      <td>POLYGON ((24490043.933015 6814573.077577, 2449...</td>\n",
       "    </tr>\n",
       "    <tr>\n",
       "      <th>10</th>\n",
       "      <td>11</td>\n",
       "      <td>WFS_KOIRAPUISTO_MVIEW.245383</td>\n",
       "      <td>245383</td>\n",
       "      <td>SANTALAHDENPUISTO</td>\n",
       "      <td></td>\n",
       "      <td>PAASIKIVENTIE</td>\n",
       "      <td>PAASIKIVENTIE</td>\n",
       "      <td>3028</td>\n",
       "      <td>YLEISET VIHERALUEET</td>\n",
       "      <td>E5 - KOIRA-AITAUKSET JA KOIRIEN UITTOALUEET</td>\n",
       "      <td>KOIRAPUISTO</td>\n",
       "      <td>KESKUSTA</td>\n",
       "      <td>SÄRKÄNNIEMI VIII</td>\n",
       "      <td>KAUPUNKIYMPÄRISTÖN PALVELUALUE</td>\n",
       "      <td>TAMPEREEN INFRA</td>\n",
       "      <td></td>\n",
       "      <td></td>\n",
       "      <td>POLYGON ((24485457.6440025 6821665.2425695, 24...</td>\n",
       "    </tr>\n",
       "    <tr>\n",
       "      <th>11</th>\n",
       "      <td>12</td>\n",
       "      <td>WFS_KOIRAPUISTO_MVIEW.183780</td>\n",
       "      <td>183780</td>\n",
       "      <td>AHVENISPUISTO</td>\n",
       "      <td></td>\n",
       "      <td>TEEKKARINKATU - LINDFORSINKATU</td>\n",
       "      <td>TEEKKARINKATU - LINDFORSINKATU</td>\n",
       "      <td>1940</td>\n",
       "      <td>YLEISET VIHERALUEET</td>\n",
       "      <td>E5 - KOIRA-AITAUKSET JA KOIRIEN UITTOALUEET</td>\n",
       "      <td>KOIRAPUISTO</td>\n",
       "      <td>HERVANTA</td>\n",
       "      <td>HERVANTA</td>\n",
       "      <td>KAUPUNKIYMPÄRISTÖN PALVELUALUE</td>\n",
       "      <td>TAMPEREEN INFRA</td>\n",
       "      <td></td>\n",
       "      <td></td>\n",
       "      <td>POLYGON ((24491780.75999 6815301.3499945, 2449...</td>\n",
       "    </tr>\n",
       "    <tr>\n",
       "      <th>12</th>\n",
       "      <td>13</td>\n",
       "      <td>WFS_KOIRAPUISTO_MVIEW.218283</td>\n",
       "      <td>218283</td>\n",
       "      <td>HÄRMÄLÄN RANTAPUISTO</td>\n",
       "      <td></td>\n",
       "      <td>PIHLAJAKATU - TUOMIKUJA</td>\n",
       "      <td>PIHLAJAKATU - TUOMIKUJA</td>\n",
       "      <td>1174</td>\n",
       "      <td>YLEISET VIHERALUEET</td>\n",
       "      <td>E5 - KOIRA-AITAUKSET JA KOIRIEN UITTOALUEET</td>\n",
       "      <td>KOIRAPUISTO</td>\n",
       "      <td>PELTOLAMMI</td>\n",
       "      <td>RANTAPERKIÖ</td>\n",
       "      <td>KAUPUNKIYMPÄRISTÖN PALVELUALUE</td>\n",
       "      <td>PIHAHUOLTO HAAPANIEMI OY</td>\n",
       "      <td></td>\n",
       "      <td></td>\n",
       "      <td>POLYGON ((24487190.0016425 6818603.587762, 244...</td>\n",
       "    </tr>\n",
       "  </tbody>\n",
       "</table>\n",
       "</div>"
      ],
      "text/plain": [
       "    _id                           FID  VIHERALUEEN_OSAN_ID  \\\n",
       "0     1  WFS_KOIRAPUISTO_MVIEW.184191               184191   \n",
       "1     2  WFS_KOIRAPUISTO_MVIEW.178677               178677   \n",
       "2     3  WFS_KOIRAPUISTO_MVIEW.119558               119558   \n",
       "3     4  WFS_KOIRAPUISTO_MVIEW.128277               128277   \n",
       "4     5  WFS_KOIRAPUISTO_MVIEW.134922               134922   \n",
       "5     6  WFS_KOIRAPUISTO_MVIEW.134904               134904   \n",
       "6     7  WFS_KOIRAPUISTO_MVIEW.159370               159370   \n",
       "7     8  WFS_KOIRAPUISTO_MVIEW.147971               147971   \n",
       "8     9  WFS_KOIRAPUISTO_MVIEW.160589               160589   \n",
       "9    10  WFS_KOIRAPUISTO_MVIEW.245574               245574   \n",
       "10   11  WFS_KOIRAPUISTO_MVIEW.245383               245383   \n",
       "11   12  WFS_KOIRAPUISTO_MVIEW.183780               183780   \n",
       "12   13  WFS_KOIRAPUISTO_MVIEW.218283               218283   \n",
       "\n",
       "               ALUE_NIMI OSA_ALUE_NIMI  \\\n",
       "0        NÄYTTÄMÖNPUISTO                 \n",
       "1              HAKAMETSÄ                 \n",
       "2            VIIRAPUISTO                 \n",
       "3       VÄHÄJÄRVENPUISTO                 \n",
       "4        ISOLAMMENPUISTO                 \n",
       "5           VESTONPUISTO                 \n",
       "6         VILLILÄNPUISTO                 \n",
       "7            LEIMAPUISTO                 \n",
       "8    RATINAN RANTAPUISTO                 \n",
       "9      VIROLAISTENPUISTO                 \n",
       "10     SANTALAHDENPUISTO                 \n",
       "11         AHVENISPUISTO                 \n",
       "12  HÄRMÄLÄN RANTAPUISTO                 \n",
       "\n",
       "                                    ALUE_SIJ  \\\n",
       "0    ELNA HELLMANIN KATU - SIMO KAARION KATU   \n",
       "1           UUDENKYLÄNKATU - SAMMON VALTATIE   \n",
       "2           POSSIJÄRVENKATU - MYLLYPURONKATU   \n",
       "3                   LEPOLANTIE - PERKIÖNKATU   \n",
       "4             ISOLAMMENKATU - ISONIITYNPOLKU   \n",
       "5                                 VESTONKATU   \n",
       "6                              VILLILÄNNIEMI   \n",
       "7                                TESOMANKATU   \n",
       "8      RATINAN RANTATIE - TAMPEREEN VALTATIE   \n",
       "9   VUOREKSEN PUISTOKATU - FRANS EMILIN KATU   \n",
       "10                             PAASIKIVENTIE   \n",
       "11            TEEKKARINKATU - LINDFORSINKATU   \n",
       "12                   PIHLAJAKATU - TUOMIKUJA   \n",
       "\n",
       "                             ALUEEN_OSAN_SIJ  PINTA_ALA             KAYTTOLK  \\\n",
       "0    ELNA HELLMANIN KATU - SIMO KAARION KATU       2342  YLEISET VIHERALUEET   \n",
       "1           UUDENKYLÄNKATU - SAMMON VALTATIE       4458  YLEISET VIHERALUEET   \n",
       "2           POSSIJÄRVENKATU - MYLLYPURONKATU       1926  YLEISET VIHERALUEET   \n",
       "3                   LEPOLANTIE - PERKIÖNKATU       4014  YLEISET VIHERALUEET   \n",
       "4             ISOLAMMENKATU - ISONIITYNPOLKU       2051  YLEISET VIHERALUEET   \n",
       "5                                 VESTONKATU       3143  YLEISET VIHERALUEET   \n",
       "6                              VILLILÄNNIEMI       3463  YLEISET VIHERALUEET   \n",
       "7                                TESOMANKATU       3180  YLEISET VIHERALUEET   \n",
       "8      RATINAN RANTATIE - TAMPEREEN VALTATIE       1767  YLEISET VIHERALUEET   \n",
       "9   VUOREKSEN PUISTOKATU - FRANS EMILIN KATU       3602  YLEISET VIHERALUEET   \n",
       "10                             PAASIKIVENTIE       3028  YLEISET VIHERALUEET   \n",
       "11            TEEKKARINKATU - LINDFORSINKATU       1940  YLEISET VIHERALUEET   \n",
       "12                   PIHLAJAKATU - TUOMIKUJA       1174  YLEISET VIHERALUEET   \n",
       "\n",
       "                                        HOITOLK       TOIMLK URAKKA_ALUE  \\\n",
       "0   E5 - KOIRA-AITAUKSET JA KOIRIEN UITTOALUEET  KOIRAPUISTO    HERVANTA   \n",
       "1   E5 - KOIRA-AITAUKSET JA KOIRIEN UITTOALUEET  KOIRAPUISTO   KISSANMAA   \n",
       "2   E5 - KOIRA-AITAUKSET JA KOIRIEN UITTOALUEET  KOIRAPUISTO    LIELAHTI   \n",
       "3   E5 - KOIRA-AITAUKSET JA KOIRIEN UITTOALUEET  KOIRAPUISTO  PELTOLAMMI   \n",
       "4   E5 - KOIRA-AITAUKSET JA KOIRIEN UITTOALUEET  KOIRAPUISTO     LEINOLA   \n",
       "5   E5 - KOIRA-AITAUKSET JA KOIRIEN UITTOALUEET  KOIRAPUISTO     LEINOLA   \n",
       "6   E5 - KOIRA-AITAUKSET JA KOIRIEN UITTOALUEET  KOIRAPUISTO      TESOMA   \n",
       "7   E5 - KOIRA-AITAUKSET JA KOIRIEN UITTOALUEET  KOIRAPUISTO      TESOMA   \n",
       "8   E5 - KOIRA-AITAUKSET JA KOIRIEN UITTOALUEET  KOIRAPUISTO    KESKUSTA   \n",
       "9   E5 - KOIRA-AITAUKSET JA KOIRIEN UITTOALUEET  KOIRAPUISTO      VUORES   \n",
       "10  E5 - KOIRA-AITAUKSET JA KOIRIEN UITTOALUEET  KOIRAPUISTO    KESKUSTA   \n",
       "11  E5 - KOIRA-AITAUKSET JA KOIRIEN UITTOALUEET  KOIRAPUISTO    HERVANTA   \n",
       "12  E5 - KOIRA-AITAUKSET JA KOIRIEN UITTOALUEET  KOIRAPUISTO  PELTOLAMMI   \n",
       "\n",
       "        KAUPUNGINOSA                         TILAAJA  \\\n",
       "0           HERVANTA  KAUPUNKIYMPÄRISTÖN PALVELUALUE   \n",
       "1          KISSANMAA  KAUPUNKIYMPÄRISTÖN PALVELUALUE   \n",
       "2        RYYDYNPOHJA  KAUPUNKIYMPÄRISTÖN PALVELUALUE   \n",
       "3            HÄRMÄLÄ  KAUPUNKIYMPÄRISTÖN PALVELUALUE   \n",
       "4         KAUKAJÄRVI  KAUPUNKIYMPÄRISTÖN PALVELUALUE   \n",
       "5            LEINOLA  KAUPUNKIYMPÄRISTÖN PALVELUALUE   \n",
       "6            VILLILÄ  KAUPUNKIYMPÄRISTÖN PALVELUALUE   \n",
       "7        TESOMAJÄRVI  KAUPUNKIYMPÄRISTÖN PALVELUALUE   \n",
       "8        RATINA XIII  KAUPUNKIYMPÄRISTÖN PALVELUALUE   \n",
       "9             VUORES  KAUPUNKIYMPÄRISTÖN PALVELUALUE   \n",
       "10  SÄRKÄNNIEMI VIII  KAUPUNKIYMPÄRISTÖN PALVELUALUE   \n",
       "11          HERVANTA  KAUPUNKIYMPÄRISTÖN PALVELUALUE   \n",
       "12       RANTAPERKIÖ  KAUPUNKIYMPÄRISTÖN PALVELUALUE   \n",
       "\n",
       "               KUNNOSSAPITAJA ERITYISKAYTTO KP_KAUSI  \\\n",
       "0             TAMPEREEN INFRA                          \n",
       "1             TAMPEREEN INFRA                          \n",
       "2             TAMPEREEN INFRA                          \n",
       "3    PIHAHUOLTO HAAPANIEMI OY                          \n",
       "4             TAMPEREEN INFRA                          \n",
       "5             TAMPEREEN INFRA                          \n",
       "6             TAMPEREEN INFRA                          \n",
       "7   YMPÄRISTÖPALVELU KNUUTILA                          \n",
       "8             TAMPEREEN INFRA                          \n",
       "9             TAMPEREEN INFRA                          \n",
       "10            TAMPEREEN INFRA                          \n",
       "11            TAMPEREEN INFRA                          \n",
       "12   PIHAHUOLTO HAAPANIEMI OY                          \n",
       "\n",
       "                                               GEOLOC  \n",
       "0   POLYGON ((24492872.148015 6815106.918607, 2449...  \n",
       "1   POLYGON ((24490547.379985 6820611.2299885, 244...  \n",
       "2   POLYGON ((24481801.98001 6823713.9310195, 2448...  \n",
       "3   POLYGON ((24485578.77199 6817535.950009, 24485...  \n",
       "4   POLYGON ((24493689.346995 6817629.1079875, 244...  \n",
       "5   POLYGON ((24495686.2750125 6819135.544003, 244...  \n",
       "6   POLYGON ((24480980.320015 6820801.479994, 2448...  \n",
       "7   POLYGON ((24478719.995 6821704.3859815, 244787...  \n",
       "8   POLYGON ((24487225.8000025 6820324.8800035, 24...  \n",
       "9   POLYGON ((24490043.933015 6814573.077577, 2449...  \n",
       "10  POLYGON ((24485457.6440025 6821665.2425695, 24...  \n",
       "11  POLYGON ((24491780.75999 6815301.3499945, 2449...  \n",
       "12  POLYGON ((24487190.0016425 6818603.587762, 244...  "
      ]
     },
     "execution_count": 26,
     "metadata": {},
     "output_type": "execute_result"
    }
   ],
   "source": [
    "import requests, json\n",
    "import pandas as pd\n",
    "\n",
    "r = requests.get('https://data.tampere.fi/data/api/action/datastore_search?resource_id=8c710e26-6fcd-4078-928f-0e5572d84ce0&limit=1000')\n",
    "\n",
    "query_data = json.loads(r.text)\n",
    "\n",
    "\n",
    "with open('out.json', 'w') as f:\n",
    "    json.dump(query_data, f, indent=1)\n",
    "\n",
    "df = pd.DataFrame(query_data['result']['records'])\n",
    "df\n",
    "\n",
    "# for row in df.itertuples():\n",
    "#    print(row)\n",
    "\n",
    "# pd.DataFrame(df.result.tolist())"
   ]
  },
  {
   "cell_type": "code",
   "execution_count": 27,
   "metadata": {},
   "outputs": [
    {
     "name": "stdout",
     "output_type": "stream",
     "text": [
      "<class 'pandas.core.frame.DataFrame'>\n",
      "RangeIndex: 13 entries, 0 to 12\n",
      "Data columns (total 18 columns):\n",
      " #   Column               Non-Null Count  Dtype \n",
      "---  ------               --------------  ----- \n",
      " 0   _id                  13 non-null     int64 \n",
      " 1   FID                  13 non-null     object\n",
      " 2   VIHERALUEEN_OSAN_ID  13 non-null     int64 \n",
      " 3   ALUE_NIMI            13 non-null     object\n",
      " 4   OSA_ALUE_NIMI        13 non-null     object\n",
      " 5   ALUE_SIJ             13 non-null     object\n",
      " 6   ALUEEN_OSAN_SIJ      13 non-null     object\n",
      " 7   PINTA_ALA            13 non-null     int64 \n",
      " 8   KAYTTOLK             13 non-null     object\n",
      " 9   HOITOLK              13 non-null     object\n",
      " 10  TOIMLK               13 non-null     object\n",
      " 11  URAKKA_ALUE          13 non-null     object\n",
      " 12  KAUPUNGINOSA         13 non-null     object\n",
      " 13  TILAAJA              13 non-null     object\n",
      " 14  KUNNOSSAPITAJA       13 non-null     object\n",
      " 15  ERITYISKAYTTO        13 non-null     object\n",
      " 16  KP_KAUSI             13 non-null     object\n",
      " 17  GEOLOC               13 non-null     object\n",
      "dtypes: int64(3), object(15)\n",
      "memory usage: 2.0+ KB\n"
     ]
    }
   ],
   "source": [
    "df.info()"
   ]
  },
  {
   "cell_type": "markdown",
   "metadata": {},
   "source": [
    "Vaikuttaako datasetti lupaavalta?\n",
    "\n",
    "Alla yksinkertainen esimerkki [Europe PMC rajapinnasta](https://europepmc.org/RestfulWebService). "
   ]
  },
  {
   "cell_type": "code",
   "execution_count": 10,
   "metadata": {},
   "outputs": [
    {
     "name": "stdout",
     "output_type": "stream",
     "text": [
      "Rajapinnan kautta löytyi yhteensä 2769 julkaisua\n"
     ]
    }
   ],
   "source": [
    "import requests, json\n",
    "search=\"nanorobot%20or%20nanobot%20or%20nanomachine%20or%20nanomotors%20or%20nanoid%20or%20nanite%20or%20nanomite\"\n",
    "r = requests.get('https://www.ebi.ac.uk/europepmc/webservices/rest/search?query='+search+'&format=json&resulttype=core')\n",
    "query_data = json.loads(r.text)\n",
    "records=query_data['hitCount']\n",
    "print(\"Rajapinnan kautta löytyi yhteensä \"+str(records)+\" julkaisua\")\n",
    "if records > 1000:\n",
    "    pageSize=1000\n",
    "    pages=int((records/1000)+1)\n",
    "else:\n",
    "    pageSize=records\n",
    "    pages=1"
   ]
  },
  {
   "cell_type": "markdown",
   "metadata": {},
   "source": [
    "### Tarkastele ja käsittele dataa"
   ]
  },
  {
   "cell_type": "markdown",
   "metadata": {},
   "source": [
    "Kun olet valinnut aineiston käyttöösi ja hankkinut käsiisi datan (tai ainakin osan siitä), aloita tarkastelemalla mitä datassa on. Esimerkiksi lainojen hyväksyntää kuvaava aineisto oli täynnä virheellisiä arvoja, puuttujia lukuja ja emme voineet olla täysin varmoja, että kaikki tapaukset kuvautuvat datassa alkujaankaan. \n",
    "\n",
    "Pohdi tässä kohtaa alkuperäistä kysymystäsi. Mitä nyt käytössä olevat muutujat oikestaan kertovat? Mitkä ovat muuttujien asteikot, ovatko muuttujat vinoja ja ovatko kaikki kategoriset luokat on edustettuina. Tee itsellesi kuva siitä, mihin muuttujat voivat vastata ja ymmärrä myös se, mihin ne eivät voi vastata. \n",
    "\n",
    "Kun olet ymmärtänyt mitä datassa on, voi aloittaa datan jalostamisen. Onko aineistossasi tekstikenttiä joissa on [kirjoitusvirheitä](https://twitter.com/jnkka/status/1110226356217044992?s=19)? Onko jokin muu osa ainestoa käsin syötettyä ja mahdollisesti osittain virheellistä? Pitääkö muuttujia muuntaa? Käy jokainen muuttuja läpi ja varmista että muuttujan arvot on varmasti siivottu."
   ]
  },
  {
   "cell_type": "markdown",
   "metadata": {},
   "source": [
    "### Rikasta aineistoa"
   ]
  },
  {
   "cell_type": "markdown",
   "metadata": {},
   "source": [
    "Jos olet toteuttanut edelliset vaiheet hyvin, on tämä vaihe helpompi. Pyri tässä vaiheessa löytämään keino yhdistää eri lähteistä tulevat data yhdeksi. Pohdi mikä datoja yhdistää. Ovatko muuttujat yhteismitallisia vai tuleeko sinun asettaa rajoitteita siihen, miten aineistoja voidaan myöhemmin analysoida yhdessä.\n",
    "\n",
    "Muunna data muotoon, jossa tunnistat alkuperäiselle kysymykselle arvokkaat piirteet. Kuvaile mistä eri piirteet ovat tulleet (lähde), miten ne muuttuvat sekä mikä on niiden merkitys alkuperäiselle kysymykselle. Tarvittaessa pyri myös muuntaamaan muuttujia muotoon jossa ne palvelevat paremmin kysymyksen asettelua. Onko sinun analyysissä aikatieto relevantti minuutteina, tunteina vai vuosina?\n"
   ]
  },
  {
   "cell_type": "markdown",
   "metadata": {},
   "source": [
    "Hyvän esimerkin siitä miten dataa voi ymmärtää tarjoaa [analytiikkasuunnittelukehikko](https://reader.elsevier.com/reader/sd/pii/S2212827118301549?token=43C2D5A145DF1B6795E073AF56BF0538A3EF6328C4B3EA06D58642DD25CFEA1388892F5F668D0F4D724191B9178F5767)."
   ]
  },
  {
   "cell_type": "code",
   "execution_count": 1,
   "metadata": {},
   "outputs": [],
   "source": [
    "# IFrame(\"https://doi.org/10.1016/j.procir.2018.02.031\", width=1000, height=1200)"
   ]
  },
  {
   "cell_type": "markdown",
   "metadata": {},
   "source": [
    "### Tee visualisointeja"
   ]
  },
  {
   "cell_type": "markdown",
   "metadata": {},
   "source": [
    "Erityisesti jos sinulla on käsissäsi huomattava määrä muuttujia ja aineisto on laaja, tulee kriittisesti arvioida mitkä visualisoinnit ovat arvokkaita loppukäyttäjälle. Vaikka jonkin visualisoinnin tekeminen on mahdollista, sitä ei välttämättä kannata tehdä.\n",
    "\n",
    "Visualisointien tekemiseen on useita hyviä työkaluja kuten Bokeh, Plotly ja Matplotlib, mutta näistä ei ole erityisemmin hyötyä mikäli et pysty selittämään miksi jokin kuvaaja on arvokas asiaa analysoivalle loppukäyttäjälle. Visualisointien tekemisessä on itseasiassa merkittävä valinta tilanne, kun analyytikko päättää esimerkiksi visualisoida kaksi muuttujaa, mutta taustalle voi jäädä kymmeniä muuttujia. Miksi valitsit siis juuri nämä muuttujat?"
   ]
  },
  {
   "cell_type": "markdown",
   "metadata": {},
   "source": [
    "![\"Verkostokuva\"](https://ars.els-cdn.com/content/image/1-s2.0-S0040162516303651-gr2.jpg)\n",
    "\n",
    "Datan kartoittamiseen palataan tulevilla luentoviikoilla."
   ]
  },
  {
   "cell_type": "markdown",
   "metadata": {},
   "source": [
    "### Mallinna"
   ]
  },
  {
   "cell_type": "markdown",
   "metadata": {},
   "source": [
    "Tässä vaiheessa voit siirtyä kehittämään ennustemallia. Mikä olikaan alkuperäinen kysymyksesi ja miten se kääntyy kysymykseksi joka ratkeaa ohjelmallisesti? "
   ]
  },
  {
   "cell_type": "markdown",
   "metadata": {},
   "source": [
    "![\"Scikit-learn map\"](https://scikit-learn.org/stable/_static/ml_map.png)"
   ]
  },
  {
   "cell_type": "markdown",
   "metadata": {},
   "source": [
    "### Iteroi"
   ]
  },
  {
   "cell_type": "markdown",
   "metadata": {},
   "source": [
    "Työt tuskin loppuivat tähän vaan nyt iteroit. Data analyysin mielenkiintoisin osa on se, että yleensä siinä vaiheessa kun olet käynyt prosessin läpi ensimmäisen kerran on sinulla jo hyvä käsitys siitä miten kyseistä aineistoa voisi edellen täydenttä uudella datalla, rikastaa, tai mallintaa toisella tavalla. Parhaimmillaan huomaat että mieleen on tullut täysin uusi kysymys, mutta jos näin on päässyt käymään, arvioi kriittisesti vastaako nyt kerätty aineisto uuteen kysymykseen.\n",
    "\n",
    "\n",
    "## Esimerkkityönkulku\n",
    "\n",
    "Katsastetaan vielä lopuksi esimerkki Airbnb-asunnon hinnan ennustamisesta."
   ]
  }
 ],
 "metadata": {
  "kernelspec": {
   "display_name": "Python 3 (ipykernel)",
   "language": "python",
   "name": "python3"
  },
  "language_info": {
   "codemirror_mode": {
    "name": "ipython",
    "version": 3
   },
   "file_extension": ".py",
   "mimetype": "text/x-python",
   "name": "python",
   "nbconvert_exporter": "python",
   "pygments_lexer": "ipython3",
   "version": "3.8.5"
  }
 },
 "nbformat": 4,
 "nbformat_minor": 4
}
